{
 "cells": [
  {
   "cell_type": "code",
   "execution_count": 1,
   "metadata": {},
   "outputs": [],
   "source": [
    "import pandas as pd\n",
    "import matplotlib.pyplot as plt\n",
    "import numpy as np"
   ]
  },
  {
   "cell_type": "code",
   "execution_count": 2,
   "metadata": {},
   "outputs": [
    {
     "data": {
      "text/html": [
       "<div>\n",
       "<style scoped>\n",
       "    .dataframe tbody tr th:only-of-type {\n",
       "        vertical-align: middle;\n",
       "    }\n",
       "\n",
       "    .dataframe tbody tr th {\n",
       "        vertical-align: top;\n",
       "    }\n",
       "\n",
       "    .dataframe thead th {\n",
       "        text-align: right;\n",
       "    }\n",
       "</style>\n",
       "<table border=\"1\" class=\"dataframe\">\n",
       "  <thead>\n",
       "    <tr style=\"text-align: right;\">\n",
       "      <th></th>\n",
       "      <th>city</th>\n",
       "      <th>driver_count</th>\n",
       "      <th>type</th>\n",
       "    </tr>\n",
       "  </thead>\n",
       "  <tbody>\n",
       "    <tr>\n",
       "      <th>0</th>\n",
       "      <td>Kelseyland</td>\n",
       "      <td>63</td>\n",
       "      <td>Urban</td>\n",
       "    </tr>\n",
       "    <tr>\n",
       "      <th>1</th>\n",
       "      <td>Nguyenbury</td>\n",
       "      <td>8</td>\n",
       "      <td>Urban</td>\n",
       "    </tr>\n",
       "    <tr>\n",
       "      <th>2</th>\n",
       "      <td>East Douglas</td>\n",
       "      <td>12</td>\n",
       "      <td>Urban</td>\n",
       "    </tr>\n",
       "    <tr>\n",
       "      <th>3</th>\n",
       "      <td>West Dawnfurt</td>\n",
       "      <td>34</td>\n",
       "      <td>Urban</td>\n",
       "    </tr>\n",
       "    <tr>\n",
       "      <th>4</th>\n",
       "      <td>Rodriguezburgh</td>\n",
       "      <td>52</td>\n",
       "      <td>Urban</td>\n",
       "    </tr>\n",
       "  </tbody>\n",
       "</table>\n",
       "</div>"
      ],
      "text/plain": [
       "             city  driver_count   type\n",
       "0      Kelseyland            63  Urban\n",
       "1      Nguyenbury             8  Urban\n",
       "2    East Douglas            12  Urban\n",
       "3   West Dawnfurt            34  Urban\n",
       "4  Rodriguezburgh            52  Urban"
      ]
     },
     "execution_count": 2,
     "metadata": {},
     "output_type": "execute_result"
    }
   ],
   "source": [
    "city_data_df = pd.read_csv(\"city_data.csv\")\n",
    "ride_data_df = pd.read_csv(\"ride_data.csv\")\n",
    "city_data_df.head()"
   ]
  },
  {
   "cell_type": "code",
   "execution_count": 3,
   "metadata": {},
   "outputs": [
    {
     "data": {
      "text/html": [
       "<div>\n",
       "<style scoped>\n",
       "    .dataframe tbody tr th:only-of-type {\n",
       "        vertical-align: middle;\n",
       "    }\n",
       "\n",
       "    .dataframe tbody tr th {\n",
       "        vertical-align: top;\n",
       "    }\n",
       "\n",
       "    .dataframe thead th {\n",
       "        text-align: right;\n",
       "    }\n",
       "</style>\n",
       "<table border=\"1\" class=\"dataframe\">\n",
       "  <thead>\n",
       "    <tr style=\"text-align: right;\">\n",
       "      <th></th>\n",
       "      <th>city</th>\n",
       "      <th>date</th>\n",
       "      <th>fare</th>\n",
       "      <th>ride_id</th>\n",
       "    </tr>\n",
       "  </thead>\n",
       "  <tbody>\n",
       "    <tr>\n",
       "      <th>0</th>\n",
       "      <td>Sarabury</td>\n",
       "      <td>2016-01-16 13:49:27</td>\n",
       "      <td>38.35</td>\n",
       "      <td>5403689035038</td>\n",
       "    </tr>\n",
       "    <tr>\n",
       "      <th>1</th>\n",
       "      <td>South Roy</td>\n",
       "      <td>2016-01-02 18:42:34</td>\n",
       "      <td>17.49</td>\n",
       "      <td>4036272335942</td>\n",
       "    </tr>\n",
       "    <tr>\n",
       "      <th>2</th>\n",
       "      <td>Wiseborough</td>\n",
       "      <td>2016-01-21 17:35:29</td>\n",
       "      <td>44.18</td>\n",
       "      <td>3645042422587</td>\n",
       "    </tr>\n",
       "    <tr>\n",
       "      <th>3</th>\n",
       "      <td>Spencertown</td>\n",
       "      <td>2016-07-31 14:53:22</td>\n",
       "      <td>6.87</td>\n",
       "      <td>2242596575892</td>\n",
       "    </tr>\n",
       "    <tr>\n",
       "      <th>4</th>\n",
       "      <td>Nguyenbury</td>\n",
       "      <td>2016-07-09 04:42:44</td>\n",
       "      <td>6.28</td>\n",
       "      <td>1543057793673</td>\n",
       "    </tr>\n",
       "  </tbody>\n",
       "</table>\n",
       "</div>"
      ],
      "text/plain": [
       "          city                 date   fare        ride_id\n",
       "0     Sarabury  2016-01-16 13:49:27  38.35  5403689035038\n",
       "1    South Roy  2016-01-02 18:42:34  17.49  4036272335942\n",
       "2  Wiseborough  2016-01-21 17:35:29  44.18  3645042422587\n",
       "3  Spencertown  2016-07-31 14:53:22   6.87  2242596575892\n",
       "4   Nguyenbury  2016-07-09 04:42:44   6.28  1543057793673"
      ]
     },
     "execution_count": 3,
     "metadata": {},
     "output_type": "execute_result"
    }
   ],
   "source": [
    "ride_data_df.head()"
   ]
  },
  {
   "cell_type": "code",
   "execution_count": 4,
   "metadata": {},
   "outputs": [
    {
     "data": {
      "text/html": [
       "<div>\n",
       "<style scoped>\n",
       "    .dataframe tbody tr th:only-of-type {\n",
       "        vertical-align: middle;\n",
       "    }\n",
       "\n",
       "    .dataframe tbody tr th {\n",
       "        vertical-align: top;\n",
       "    }\n",
       "\n",
       "    .dataframe thead th {\n",
       "        text-align: right;\n",
       "    }\n",
       "</style>\n",
       "<table border=\"1\" class=\"dataframe\">\n",
       "  <thead>\n",
       "    <tr style=\"text-align: right;\">\n",
       "      <th></th>\n",
       "      <th>city</th>\n",
       "      <th>date</th>\n",
       "      <th>fare</th>\n",
       "      <th>ride_id</th>\n",
       "      <th>driver_count</th>\n",
       "      <th>type</th>\n",
       "    </tr>\n",
       "  </thead>\n",
       "  <tbody>\n",
       "    <tr>\n",
       "      <th>0</th>\n",
       "      <td>Sarabury</td>\n",
       "      <td>2016-01-16 13:49:27</td>\n",
       "      <td>38.35</td>\n",
       "      <td>5403689035038</td>\n",
       "      <td>46</td>\n",
       "      <td>Urban</td>\n",
       "    </tr>\n",
       "    <tr>\n",
       "      <th>1</th>\n",
       "      <td>Sarabury</td>\n",
       "      <td>2016-07-23 07:42:44</td>\n",
       "      <td>21.76</td>\n",
       "      <td>7546681945283</td>\n",
       "      <td>46</td>\n",
       "      <td>Urban</td>\n",
       "    </tr>\n",
       "    <tr>\n",
       "      <th>2</th>\n",
       "      <td>Sarabury</td>\n",
       "      <td>2016-04-02 04:32:25</td>\n",
       "      <td>38.03</td>\n",
       "      <td>4932495851866</td>\n",
       "      <td>46</td>\n",
       "      <td>Urban</td>\n",
       "    </tr>\n",
       "    <tr>\n",
       "      <th>3</th>\n",
       "      <td>Sarabury</td>\n",
       "      <td>2016-06-23 05:03:41</td>\n",
       "      <td>26.82</td>\n",
       "      <td>6711035373406</td>\n",
       "      <td>46</td>\n",
       "      <td>Urban</td>\n",
       "    </tr>\n",
       "    <tr>\n",
       "      <th>4</th>\n",
       "      <td>Sarabury</td>\n",
       "      <td>2016-09-30 12:48:34</td>\n",
       "      <td>30.30</td>\n",
       "      <td>6388737278232</td>\n",
       "      <td>46</td>\n",
       "      <td>Urban</td>\n",
       "    </tr>\n",
       "  </tbody>\n",
       "</table>\n",
       "</div>"
      ],
      "text/plain": [
       "       city                 date   fare        ride_id  driver_count   type\n",
       "0  Sarabury  2016-01-16 13:49:27  38.35  5403689035038            46  Urban\n",
       "1  Sarabury  2016-07-23 07:42:44  21.76  7546681945283            46  Urban\n",
       "2  Sarabury  2016-04-02 04:32:25  38.03  4932495851866            46  Urban\n",
       "3  Sarabury  2016-06-23 05:03:41  26.82  6711035373406            46  Urban\n",
       "4  Sarabury  2016-09-30 12:48:34  30.30  6388737278232            46  Urban"
      ]
     },
     "execution_count": 4,
     "metadata": {},
     "output_type": "execute_result"
    }
   ],
   "source": [
    "alldata_df = pd.merge(ride_data_df, city_data_df, on=\"city\", how=\"outer\")\n",
    "alldata_df.head()"
   ]
  },
  {
   "cell_type": "code",
   "execution_count": 5,
   "metadata": {},
   "outputs": [],
   "source": [
    "#sorted([[x, y] for x, y in zip(cities, city_fare)], key=lambda x: x[0])\n",
    "#urban_df = alldata_df[\"type\"]"
   ]
  },
  {
   "cell_type": "code",
   "execution_count": 6,
   "metadata": {
    "scrolled": true
   },
   "outputs": [],
   "source": [
    "#avg_fare = alldata_df.groupby(\"city\")['fare'].mean()\n",
    "#avg_fare[\"Matthewside\"]"
   ]
  },
  {
   "cell_type": "code",
   "execution_count": 7,
   "metadata": {},
   "outputs": [],
   "source": [
    "#city_type = alldata_df.groupby(\"type\")[\"city\"]\n",
    "#city_type.value_counts()"
   ]
  },
  {
   "cell_type": "code",
   "execution_count": 20,
   "metadata": {},
   "outputs": [],
   "source": [
    "#get all names of cities\n",
    "cities = alldata_df[\"city\"].unique()\n",
    "\n",
    "#calculate city data for total rides, average fares, and total drivers\n",
    "city_rides = alldata_df.groupby(\"city\")[\"ride_id\"].count()\n",
    "city_fare = alldata_df.groupby(\"city\")[\"fare\"].mean()\n",
    "city_drivers = alldata_df.groupby(\"city\")[\"driver_count\"].first()\n",
    "\n",
    "#make dictionary to change to dataframe\n",
    "city_type = alldata_df.groupby(\"city\")[\"type\"].first()\n",
    "\n",
    "city_dict = {\"city_rides\": city_rides,\n",
    "             \"city_fare\": city_fare,\n",
    "             \"city_drivers\": city_drivers,\n",
    "             \"city_type\" : city_type}"
   ]
  },
  {
   "cell_type": "code",
   "execution_count": 33,
   "metadata": {
    "scrolled": false
   },
   "outputs": [
    {
     "data": {
      "image/png": "[encoded data removed]",
      "text/plain": [
       "<matplotlib.figure.Figure at 0x1105807b8>"
      ]
     },
     "metadata": {},
     "output_type": "display_data"
    }
   ],
   "source": [
    "city_df = pd.DataFrame(city_dict)\n",
    "\n",
    "#group city_data by city type    \n",
    "new_city = city_df.groupby(\"city_type\")\n",
    "plt.scatter(new_city.get_group(\"Urban\")[\"city_rides\"], new_city.get_group(\"Urban\")[\"city_fare\"], \n",
    "            c='#f08080', alpha = 0.8, edgecolor='black', s=new_city.get_group(\"Urban\")[\"city_drivers\"]*5, label=\"Urban\")\n",
    "plt.scatter(new_city.get_group(\"Rural\")[\"city_rides\"], new_city.get_group(\"Rural\")[\"city_fare\"], \n",
    "            c='gold', alpha = 0.8, edgecolor='black', s=new_city.get_group(\"Rural\")[\"city_drivers\"]*5, label=\"Rural\")\n",
    "plt.scatter(new_city.get_group(\"Suburban\")[\"city_rides\"], new_city.get_group(\"Suburban\")[\"city_fare\"], \n",
    "            c='#87cefa', alpha = 0.8, edgecolor='black', s=new_city.get_group(\"Suburban\")[\"city_drivers\"]*5, label=\"Suburban\")\n",
    "\n",
    "#set title, axis labels, axis values, and legend\n",
    "plt.title(\"Pyber Ride Sharing Data (2016)\")\n",
    "plt.xlabel(\"Total Number of Rides (Per City)\")\n",
    "plt.ylabel(\"Average Fare ($)\")\n",
    "plt.axis([0,55,0,55])\n",
    "plt.legend(loc=\"best\")\n",
    "\n",
    "None\n",
    "plt.show()"
   ]
  },
  {
   "cell_type": "markdown",
   "metadata": {},
   "source": [
    "#Alternate way:\n",
    "#loop through cities to get fare averages, rides, drivers, and type of city by city\n",
    "#city_fare = []\n",
    "#city_rides = []\n",
    "#city_drivers = []\n",
    "#city_type = []\n",
    "#for city in cities:\n",
    "#city_fare.append(alldata_df.loc[alldata_df[\"city\"]==city, \"fare\"].mean())\n",
    "#city_rides.append(alldata_df.loc[alldata_df[\"city\"]==city, \"city\"].value_counts())\n",
    "#city_drivers.append(alldata_df.loc[alldata_df[\"city\"]==city,\"driver_count\"].iloc[0])\n",
    "#city_type.append(alldata_df.loc[alldata_df[\"city\"]==city, \"type\"].iloc[0])\n",
    "#set colors to correspond to city types\n",
    "#alternate way ---> colors = {\"Urban\": \"Orange\", \"Suburban\":\"Yellow\", \"Rural\":\"Green\"}\n",
    "#alt (cont) ---> new_color = [colors[ctype] for ctype in city_type]"
   ]
  },
  {
   "cell_type": "code",
   "execution_count": 60,
   "metadata": {},
   "outputs": [
    {
     "data": {
      "image/png": "[encoded data removed]",
      "text/plain": [
       "<matplotlib.figure.Figure at 0x1110ef1d0>"
      ]
     },
     "metadata": {},
     "output_type": "display_data"
    }
   ],
   "source": [
    "# get the percent fare by city type\n",
    "fare_type = (alldata_df.groupby(\"type\")['fare'].sum())\n",
    "\n",
    "#set labels and colors\n",
    "pie_labels = [\"Rural\", \"Suburban\", \"Urban\"]\n",
    "pie_colors = ['gold','#87cefa','#f08080']\n",
    "\n",
    "#make pie chart, equal so it's more representative, percents to 2 decimal places\n",
    "#did not explode or use shadow, less is more\n",
    "\n",
    "plt.pie(fare_type, autopct='%.2f%%', labels=pie_labels, colors=pie_colors, shadow=False, explode=None, startangle=135)\n",
    "plt.title(\"% of Total Fares by City Type\")\n",
    "plt.axis(\"equal\")\n",
    "None\n",
    "plt.show()"
   ]
  },
  {
   "cell_type": "code",
   "execution_count": 59,
   "metadata": {},
   "outputs": [
    {
     "data": {
      "image/png": "[encoded data removed]",
      "text/plain": [
       "<matplotlib.figure.Figure at 0x1110d1518>"
      ]
     },
     "metadata": {},
     "output_type": "display_data"
    }
   ],
   "source": [
    "# get the percent rides by city type\n",
    "\n",
    "#may have to use .agg\n",
    "ride_type = (alldata_df.groupby(\"type\")['ride_id'].count())\n",
    "\n",
    "#make pie chart, equal so it's more representative, percents to 2 decimal places\n",
    "#did not explode or use shadow, less is more\n",
    "\n",
    "plt.pie(ride_type, autopct='%.2f%%', labels=pie_labels, colors=pie_colors, shadow=False, explode=None, startangle=135)\n",
    "plt.title(\"% of Total Rides by City Type\")\n",
    "plt.axis(\"equal\")\n",
    "None\n",
    "plt.show()"
   ]
  },
  {
   "cell_type": "code",
   "execution_count": 57,
   "metadata": {},
   "outputs": [
    {
     "data": {
      "image/png": "[encoded data removed]",
      "text/plain": [
       "<matplotlib.figure.Figure at 0x11117d518>"
      ]
     },
     "metadata": {},
     "output_type": "display_data"
    }
   ],
   "source": [
    "# get the percent fare by city type\n",
    "driver_type = (alldata_df.groupby(\"type\")['driver_count'].first())\n",
    "\n",
    "#make pie chart, equal so it's more representative, percents to 2 decimal places\n",
    "#did not explode or use shadow, less is more\n",
    "plt.pie(driver_type, autopct='%.2f%%', labels=pie_labels, colors=pie_colors, shadow=False, explode=None, startangle=135)\n",
    "plt.title(\"% of Total Drivers by City Type\")\n",
    "plt.axis(\"equal\")\n",
    "None\n",
    "plt.show()"
   ]
  },
  {
   "cell_type": "markdown",
   "metadata": {},
   "source": [
    "Three oberservable trends:\n",
    "\n",
    "1) The data for the percentage of drivers, fares, and fares seems proportional to the type of city with Urban having the highest percentage and Rural having the smallest. This could be due to the population density of the different city types and would take some calculations to account for the different densities if we want to compare further (right now it's like comparing apples to oranges). Additionally, the same number of ride data could be collected for each city type - but that may not be representative so many collecting the data over the same time period/frame and adjusting for population density would be ideal.\n",
    "\n",
    "2) The scatter seems to have a slight downward trend which could be due to the fact that there is the most data for urban, less for suburban and least for rural rides. Additionally, cost of operation in more rural areas could be higher, the demand may be lower, and trips may be longer distances. Further investigation is needed.\n",
    "\n",
    "3) The average fares by city type seem to indicate that is is most expensive in Rural, less in Suburban, and least in Urban ares on average. A correlation may be made that in places with more total rides, the average fares are lower. This could be due to a variety of reasons (like some discussed in #2), and correlation may not mean causation. "
   ]
  },
  {
   "cell_type": "code",
   "execution_count": null,
   "metadata": {},
   "outputs": [],
   "source": []
  }
 ],
 "metadata": {
  "kernelspec": {
   "display_name": "Python 3",
   "language": "python",
   "name": "python3"
  },
  "language_info": {
   "codemirror_mode": {
    "name": "ipython",
    "version": 3
   },
   "file_extension": ".py",
   "mimetype": "text/x-python",
   "name": "python",
   "nbconvert_exporter": "python",
   "pygments_lexer": "ipython3",
   "version": "3.6.4"
  }
 },
 "nbformat": 4,
 "nbformat_minor": 2
}
